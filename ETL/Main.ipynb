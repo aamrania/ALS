{
 "cells": [
  {
   "cell_type": "markdown",
   "metadata": {},
   "source": [
    "# Importing packages\n",
    "\n",
    "In this exercise, we will use the software library **pandas** for data manipulation and analysis "
   ]
  },
  {
   "cell_type": "code",
   "execution_count": null,
   "metadata": {},
   "outputs": [],
   "source": [
    "import pandas"
   ]
  },
  {
   "cell_type": "markdown",
   "metadata": {},
   "source": [
    "# Reading files\n",
    "\n",
    "First, we define the file names of the CRM data\n",
    "* **cons_filename** contains the Consituent Information\n",
    "* **email_filename** contains the Constituent Email Addresses\n",
    "* **subs_filename** contains the Constituent Subscription Status"
   ]
  },
  {
   "cell_type": "code",
   "execution_count": null,
   "metadata": {},
   "outputs": [],
   "source": [
    "cons_filename = 'https://als-hiring.s3.amazonaws.com/fake_data/2020-07-01_17%3A11%3A00/cons.csv'\n",
    "email_filename = 'https://als-hiring.s3.amazonaws.com/fake_data/2020-07-01_17%3A11%3A00/cons_email.csv'\n",
    "subs_filename = 'https://als-hiring.s3.amazonaws.com/fake_data/2020-07-01_17%3A11%3A00/cons_email_chapter_subscription.csv'"
   ]
  },
  {
   "cell_type": "markdown",
   "metadata": {},
   "source": [
    "Then, we read each of those files using *read_csv* pandas function and show the first rows of each dataframe"
   ]
  },
  {
   "cell_type": "code",
   "execution_count": 26,
   "metadata": {
    "scrolled": true
   },
   "outputs": [
    {
     "name": "stdout",
     "output_type": "stream",
     "text": [
      "The Constituent Information dataframe contains 700000 rows and 29 columns\n"
     ]
    },
    {
     "data": {
      "text/html": [
       "<div>\n",
       "<style scoped>\n",
       "    .dataframe tbody tr th:only-of-type {\n",
       "        vertical-align: middle;\n",
       "    }\n",
       "\n",
       "    .dataframe tbody tr th {\n",
       "        vertical-align: top;\n",
       "    }\n",
       "\n",
       "    .dataframe thead th {\n",
       "        text-align: right;\n",
       "    }\n",
       "</style>\n",
       "<table border=\"1\" class=\"dataframe\">\n",
       "  <thead>\n",
       "    <tr style=\"text-align: right;\">\n",
       "      <th></th>\n",
       "      <th>cons_id</th>\n",
       "      <th>prefix</th>\n",
       "      <th>firstname</th>\n",
       "      <th>middlename</th>\n",
       "      <th>lastname</th>\n",
       "      <th>suffix</th>\n",
       "      <th>salutation</th>\n",
       "      <th>gender</th>\n",
       "      <th>birth_dt</th>\n",
       "      <th>title</th>\n",
       "      <th>...</th>\n",
       "      <th>change_password_next_login</th>\n",
       "      <th>consent_type_id</th>\n",
       "      <th>create_dt</th>\n",
       "      <th>create_app</th>\n",
       "      <th>create_user</th>\n",
       "      <th>modified_dt</th>\n",
       "      <th>modified_app</th>\n",
       "      <th>modified_user</th>\n",
       "      <th>status</th>\n",
       "      <th>note</th>\n",
       "    </tr>\n",
       "  </thead>\n",
       "  <tbody>\n",
       "    <tr>\n",
       "      <th>0</th>\n",
       "      <td>1</td>\n",
       "      <td>NaN</td>\n",
       "      <td>NaN</td>\n",
       "      <td>Lee</td>\n",
       "      <td>NaN</td>\n",
       "      <td>MD</td>\n",
       "      <td>NaN</td>\n",
       "      <td>E</td>\n",
       "      <td>NaN</td>\n",
       "      <td>vSkSIzEQJdXnqeTTTXSG</td>\n",
       "      <td>...</td>\n",
       "      <td>0</td>\n",
       "      <td>5958</td>\n",
       "      <td>Fri, 1983-08-26 06:02:03</td>\n",
       "      <td>1484</td>\n",
       "      <td>6162</td>\n",
       "      <td>Sun, 2015-12-27 09:28:02</td>\n",
       "      <td>4022</td>\n",
       "      <td>6349</td>\n",
       "      <td>1</td>\n",
       "      <td>NaN</td>\n",
       "    </tr>\n",
       "    <tr>\n",
       "      <th>1</th>\n",
       "      <td>2</td>\n",
       "      <td>NaN</td>\n",
       "      <td>NaN</td>\n",
       "      <td>NaN</td>\n",
       "      <td>NaN</td>\n",
       "      <td>II</td>\n",
       "      <td>boFqBKgLlSgEZsFrgCZd</td>\n",
       "      <td>E</td>\n",
       "      <td>Mon, 2004-11-15</td>\n",
       "      <td>NaN</td>\n",
       "      <td>...</td>\n",
       "      <td>1</td>\n",
       "      <td>4236</td>\n",
       "      <td>Mon, 1979-03-05 21:08:54</td>\n",
       "      <td>4176</td>\n",
       "      <td>5476</td>\n",
       "      <td>Tue, 1989-06-20 13:28:57</td>\n",
       "      <td>9010</td>\n",
       "      <td>5698</td>\n",
       "      <td>1</td>\n",
       "      <td>NaN</td>\n",
       "    </tr>\n",
       "    <tr>\n",
       "      <th>2</th>\n",
       "      <td>3</td>\n",
       "      <td>NaN</td>\n",
       "      <td>NaN</td>\n",
       "      <td>David</td>\n",
       "      <td>King</td>\n",
       "      <td>NaN</td>\n",
       "      <td>NaN</td>\n",
       "      <td>D</td>\n",
       "      <td>Fri, 1994-04-08</td>\n",
       "      <td>bxGxufoNzpKvjwNIxgRj</td>\n",
       "      <td>...</td>\n",
       "      <td>1</td>\n",
       "      <td>1263</td>\n",
       "      <td>Fri, 2008-08-22 19:20:28</td>\n",
       "      <td>4702</td>\n",
       "      <td>8239</td>\n",
       "      <td>Fri, 2020-06-05 18:13:57</td>\n",
       "      <td>8837</td>\n",
       "      <td>1175</td>\n",
       "      <td>1</td>\n",
       "      <td>NaN</td>\n",
       "    </tr>\n",
       "    <tr>\n",
       "      <th>3</th>\n",
       "      <td>4</td>\n",
       "      <td>Ms.</td>\n",
       "      <td>Mark</td>\n",
       "      <td>Gregg</td>\n",
       "      <td>NaN</td>\n",
       "      <td>NaN</td>\n",
       "      <td>NaN</td>\n",
       "      <td>J</td>\n",
       "      <td>NaN</td>\n",
       "      <td>NaN</td>\n",
       "      <td>...</td>\n",
       "      <td>0</td>\n",
       "      <td>949</td>\n",
       "      <td>Sun, 1984-04-29 11:18:18</td>\n",
       "      <td>7096</td>\n",
       "      <td>7875</td>\n",
       "      <td>Tue, 2012-01-31 07:26:35</td>\n",
       "      <td>7529</td>\n",
       "      <td>3984</td>\n",
       "      <td>1</td>\n",
       "      <td>NaN</td>\n",
       "    </tr>\n",
       "    <tr>\n",
       "      <th>4</th>\n",
       "      <td>5</td>\n",
       "      <td>NaN</td>\n",
       "      <td>NaN</td>\n",
       "      <td>Logan</td>\n",
       "      <td>NaN</td>\n",
       "      <td>DDS</td>\n",
       "      <td>ArvPJuEozHPaqbirovMi</td>\n",
       "      <td>D</td>\n",
       "      <td>Sun, 2008-08-10</td>\n",
       "      <td>kXKlKCyCBoXUBVejPOVO</td>\n",
       "      <td>...</td>\n",
       "      <td>0</td>\n",
       "      <td>7126</td>\n",
       "      <td>Thu, 2007-07-19 18:28:09</td>\n",
       "      <td>706</td>\n",
       "      <td>5727</td>\n",
       "      <td>Tue, 1971-04-27 06:53:53</td>\n",
       "      <td>9356</td>\n",
       "      <td>6062</td>\n",
       "      <td>1</td>\n",
       "      <td>NaN</td>\n",
       "    </tr>\n",
       "  </tbody>\n",
       "</table>\n",
       "<p>5 rows × 29 columns</p>\n",
       "</div>"
      ],
      "text/plain": [
       "   cons_id prefix firstname middlename lastname suffix            salutation  \\\n",
       "0        1    NaN       NaN        Lee      NaN     MD                   NaN   \n",
       "1        2    NaN       NaN        NaN      NaN     II  boFqBKgLlSgEZsFrgCZd   \n",
       "2        3    NaN       NaN      David     King    NaN                   NaN   \n",
       "3        4    Ms.      Mark      Gregg      NaN    NaN                   NaN   \n",
       "4        5    NaN       NaN      Logan      NaN    DDS  ArvPJuEozHPaqbirovMi   \n",
       "\n",
       "  gender         birth_dt                 title  ...  \\\n",
       "0      E              NaN  vSkSIzEQJdXnqeTTTXSG  ...   \n",
       "1      E  Mon, 2004-11-15                   NaN  ...   \n",
       "2      D  Fri, 1994-04-08  bxGxufoNzpKvjwNIxgRj  ...   \n",
       "3      J              NaN                   NaN  ...   \n",
       "4      D  Sun, 2008-08-10  kXKlKCyCBoXUBVejPOVO  ...   \n",
       "\n",
       "  change_password_next_login consent_type_id                 create_dt  \\\n",
       "0                          0            5958  Fri, 1983-08-26 06:02:03   \n",
       "1                          1            4236  Mon, 1979-03-05 21:08:54   \n",
       "2                          1            1263  Fri, 2008-08-22 19:20:28   \n",
       "3                          0             949  Sun, 1984-04-29 11:18:18   \n",
       "4                          0            7126  Thu, 2007-07-19 18:28:09   \n",
       "\n",
       "  create_app create_user               modified_dt modified_app  \\\n",
       "0       1484        6162  Sun, 2015-12-27 09:28:02         4022   \n",
       "1       4176        5476  Tue, 1989-06-20 13:28:57         9010   \n",
       "2       4702        8239  Fri, 2020-06-05 18:13:57         8837   \n",
       "3       7096        7875  Tue, 2012-01-31 07:26:35         7529   \n",
       "4        706        5727  Tue, 1971-04-27 06:53:53         9356   \n",
       "\n",
       "   modified_user  status  note  \n",
       "0           6349       1   NaN  \n",
       "1           5698       1   NaN  \n",
       "2           1175       1   NaN  \n",
       "3           3984       1   NaN  \n",
       "4           6062       1   NaN  \n",
       "\n",
       "[5 rows x 29 columns]"
      ]
     },
     "execution_count": 26,
     "metadata": {},
     "output_type": "execute_result"
    }
   ],
   "source": [
    "cons_df = pandas.read_csv(cons_filename, sep = ',', header = 0)\n",
    "print(\"The Constituent Information dataframe contains %d rows and %d columns\" %cons_df.shape)\n",
    "cons_df.head()"
   ]
  },
  {
   "cell_type": "code",
   "execution_count": 27,
   "metadata": {},
   "outputs": [
    {
     "name": "stdout",
     "output_type": "stream",
     "text": [
      "The Constituent Email Addresses dataframe contains 1400000 rows and 16 columns\n"
     ]
    },
    {
     "data": {
      "text/html": [
       "<div>\n",
       "<style scoped>\n",
       "    .dataframe tbody tr th:only-of-type {\n",
       "        vertical-align: middle;\n",
       "    }\n",
       "\n",
       "    .dataframe tbody tr th {\n",
       "        vertical-align: top;\n",
       "    }\n",
       "\n",
       "    .dataframe thead th {\n",
       "        text-align: right;\n",
       "    }\n",
       "</style>\n",
       "<table border=\"1\" class=\"dataframe\">\n",
       "  <thead>\n",
       "    <tr style=\"text-align: right;\">\n",
       "      <th></th>\n",
       "      <th>cons_email_id</th>\n",
       "      <th>cons_id</th>\n",
       "      <th>cons_email_type_id</th>\n",
       "      <th>is_primary</th>\n",
       "      <th>email</th>\n",
       "      <th>canonical_local_part</th>\n",
       "      <th>domain</th>\n",
       "      <th>double_validation</th>\n",
       "      <th>create_dt</th>\n",
       "      <th>create_app</th>\n",
       "      <th>create_user</th>\n",
       "      <th>modified_dt</th>\n",
       "      <th>modified_app</th>\n",
       "      <th>modified_user</th>\n",
       "      <th>status</th>\n",
       "      <th>note</th>\n",
       "    </tr>\n",
       "  </thead>\n",
       "  <tbody>\n",
       "    <tr>\n",
       "      <th>0</th>\n",
       "      <td>1</td>\n",
       "      <td>548198</td>\n",
       "      <td>3361</td>\n",
       "      <td>1</td>\n",
       "      <td>xmartinez@vincent.com</td>\n",
       "      <td>NaN</td>\n",
       "      <td>gmail.com</td>\n",
       "      <td>NaN</td>\n",
       "      <td>Wed, 1994-01-26 23:49:16</td>\n",
       "      <td>4072</td>\n",
       "      <td>9954</td>\n",
       "      <td>Sat, 2014-04-19 19:10:39</td>\n",
       "      <td>1990</td>\n",
       "      <td>7595</td>\n",
       "      <td>1</td>\n",
       "      <td>NaN</td>\n",
       "    </tr>\n",
       "    <tr>\n",
       "      <th>1</th>\n",
       "      <td>2</td>\n",
       "      <td>491137</td>\n",
       "      <td>2474</td>\n",
       "      <td>1</td>\n",
       "      <td>hmiller@haynes.biz</td>\n",
       "      <td>jqCyozTDojYuylQPTHfm</td>\n",
       "      <td>hotmail.com</td>\n",
       "      <td>NaN</td>\n",
       "      <td>Thu, 1999-12-09 06:18:27</td>\n",
       "      <td>1600</td>\n",
       "      <td>5716</td>\n",
       "      <td>Sat, 1984-07-14 05:55:27</td>\n",
       "      <td>4686</td>\n",
       "      <td>3248</td>\n",
       "      <td>1</td>\n",
       "      <td>NaN</td>\n",
       "    </tr>\n",
       "    <tr>\n",
       "      <th>2</th>\n",
       "      <td>3</td>\n",
       "      <td>413429</td>\n",
       "      <td>5175</td>\n",
       "      <td>1</td>\n",
       "      <td>aaron64@yahoo.com</td>\n",
       "      <td>FCBeBiVoqnnKDWjnllhN</td>\n",
       "      <td>yahoo.com</td>\n",
       "      <td>kRLZexQEwYIMbwFNvQxg</td>\n",
       "      <td>Wed, 1992-11-18 16:46:27</td>\n",
       "      <td>7358</td>\n",
       "      <td>2685</td>\n",
       "      <td>Sun, 1995-12-24 13:13:01</td>\n",
       "      <td>3857</td>\n",
       "      <td>7405</td>\n",
       "      <td>1</td>\n",
       "      <td>NaN</td>\n",
       "    </tr>\n",
       "    <tr>\n",
       "      <th>3</th>\n",
       "      <td>4</td>\n",
       "      <td>347346</td>\n",
       "      <td>4117</td>\n",
       "      <td>1</td>\n",
       "      <td>wyattvincent@hotmail.com</td>\n",
       "      <td>NaN</td>\n",
       "      <td>gmail.com</td>\n",
       "      <td>zSbfmlqXimGyWVBUGdQg</td>\n",
       "      <td>Sat, 1983-11-26 16:49:14</td>\n",
       "      <td>881</td>\n",
       "      <td>3444</td>\n",
       "      <td>Sun, 1975-01-19 14:32:56</td>\n",
       "      <td>8713</td>\n",
       "      <td>7713</td>\n",
       "      <td>1</td>\n",
       "      <td>NaN</td>\n",
       "    </tr>\n",
       "    <tr>\n",
       "      <th>4</th>\n",
       "      <td>5</td>\n",
       "      <td>443000</td>\n",
       "      <td>6781</td>\n",
       "      <td>1</td>\n",
       "      <td>tspencer@hotmail.com</td>\n",
       "      <td>VaQIYlKcUkIywkKKEptD</td>\n",
       "      <td>gmail.com</td>\n",
       "      <td>NaN</td>\n",
       "      <td>Wed, 2000-11-15 13:28:34</td>\n",
       "      <td>5380</td>\n",
       "      <td>5456</td>\n",
       "      <td>Sun, 1994-03-13 16:38:37</td>\n",
       "      <td>765</td>\n",
       "      <td>8618</td>\n",
       "      <td>1</td>\n",
       "      <td>NaN</td>\n",
       "    </tr>\n",
       "  </tbody>\n",
       "</table>\n",
       "</div>"
      ],
      "text/plain": [
       "   cons_email_id  cons_id  cons_email_type_id  is_primary  \\\n",
       "0              1   548198                3361           1   \n",
       "1              2   491137                2474           1   \n",
       "2              3   413429                5175           1   \n",
       "3              4   347346                4117           1   \n",
       "4              5   443000                6781           1   \n",
       "\n",
       "                      email  canonical_local_part       domain  \\\n",
       "0     xmartinez@vincent.com                   NaN    gmail.com   \n",
       "1        hmiller@haynes.biz  jqCyozTDojYuylQPTHfm  hotmail.com   \n",
       "2         aaron64@yahoo.com  FCBeBiVoqnnKDWjnllhN    yahoo.com   \n",
       "3  wyattvincent@hotmail.com                   NaN    gmail.com   \n",
       "4      tspencer@hotmail.com  VaQIYlKcUkIywkKKEptD    gmail.com   \n",
       "\n",
       "      double_validation                 create_dt  create_app  create_user  \\\n",
       "0                   NaN  Wed, 1994-01-26 23:49:16        4072         9954   \n",
       "1                   NaN  Thu, 1999-12-09 06:18:27        1600         5716   \n",
       "2  kRLZexQEwYIMbwFNvQxg  Wed, 1992-11-18 16:46:27        7358         2685   \n",
       "3  zSbfmlqXimGyWVBUGdQg  Sat, 1983-11-26 16:49:14         881         3444   \n",
       "4                   NaN  Wed, 2000-11-15 13:28:34        5380         5456   \n",
       "\n",
       "                modified_dt  modified_app  modified_user  status note  \n",
       "0  Sat, 2014-04-19 19:10:39          1990           7595       1  NaN  \n",
       "1  Sat, 1984-07-14 05:55:27          4686           3248       1  NaN  \n",
       "2  Sun, 1995-12-24 13:13:01          3857           7405       1  NaN  \n",
       "3  Sun, 1975-01-19 14:32:56          8713           7713       1  NaN  \n",
       "4  Sun, 1994-03-13 16:38:37           765           8618       1  NaN  "
      ]
     },
     "execution_count": 27,
     "metadata": {},
     "output_type": "execute_result"
    }
   ],
   "source": [
    "email_df = pandas.read_csv(email_filename, sep = ',', header = 0)\n",
    "print(\"The Constituent Email Addresses dataframe contains %d rows and %d columns\" %email_df.shape)\n",
    "email_df.head()"
   ]
  },
  {
   "cell_type": "code",
   "execution_count": 28,
   "metadata": {},
   "outputs": [
    {
     "name": "stdout",
     "output_type": "stream",
     "text": [
      "The Constituent Subscription Status dataframe contains 350000 rows and 6 columns\n"
     ]
    },
    {
     "data": {
      "text/html": [
       "<div>\n",
       "<style scoped>\n",
       "    .dataframe tbody tr th:only-of-type {\n",
       "        vertical-align: middle;\n",
       "    }\n",
       "\n",
       "    .dataframe tbody tr th {\n",
       "        vertical-align: top;\n",
       "    }\n",
       "\n",
       "    .dataframe thead th {\n",
       "        text-align: right;\n",
       "    }\n",
       "</style>\n",
       "<table border=\"1\" class=\"dataframe\">\n",
       "  <thead>\n",
       "    <tr style=\"text-align: right;\">\n",
       "      <th></th>\n",
       "      <th>cons_email_chapter_subscription_id</th>\n",
       "      <th>cons_email_id</th>\n",
       "      <th>chapter_id</th>\n",
       "      <th>isunsub</th>\n",
       "      <th>unsub_dt</th>\n",
       "      <th>modified_dt</th>\n",
       "    </tr>\n",
       "  </thead>\n",
       "  <tbody>\n",
       "    <tr>\n",
       "      <th>0</th>\n",
       "      <td>1</td>\n",
       "      <td>332188</td>\n",
       "      <td>1</td>\n",
       "      <td>1</td>\n",
       "      <td>Sat, 1971-06-12 15:38:44</td>\n",
       "      <td>Thu, 1990-06-28 10:54:20</td>\n",
       "    </tr>\n",
       "    <tr>\n",
       "      <th>1</th>\n",
       "      <td>2</td>\n",
       "      <td>536526</td>\n",
       "      <td>1</td>\n",
       "      <td>1</td>\n",
       "      <td>Wed, 2006-07-12 01:50:45</td>\n",
       "      <td>Thu, 1979-09-20 06:02:35</td>\n",
       "    </tr>\n",
       "    <tr>\n",
       "      <th>2</th>\n",
       "      <td>3</td>\n",
       "      <td>134711</td>\n",
       "      <td>1</td>\n",
       "      <td>1</td>\n",
       "      <td>Tue, 1987-01-06 13:05:15</td>\n",
       "      <td>Sun, 1974-03-03 15:11:50</td>\n",
       "    </tr>\n",
       "    <tr>\n",
       "      <th>3</th>\n",
       "      <td>4</td>\n",
       "      <td>660345</td>\n",
       "      <td>1</td>\n",
       "      <td>1</td>\n",
       "      <td>Sat, 2016-08-06 11:06:09</td>\n",
       "      <td>Wed, 1995-09-13 23:45:03</td>\n",
       "    </tr>\n",
       "    <tr>\n",
       "      <th>4</th>\n",
       "      <td>5</td>\n",
       "      <td>184268</td>\n",
       "      <td>1</td>\n",
       "      <td>1</td>\n",
       "      <td>Sun, 2000-05-28 02:20:45</td>\n",
       "      <td>Sat, 1983-12-10 08:09:58</td>\n",
       "    </tr>\n",
       "  </tbody>\n",
       "</table>\n",
       "</div>"
      ],
      "text/plain": [
       "   cons_email_chapter_subscription_id  cons_email_id  chapter_id  isunsub  \\\n",
       "0                                   1         332188           1        1   \n",
       "1                                   2         536526           1        1   \n",
       "2                                   3         134711           1        1   \n",
       "3                                   4         660345           1        1   \n",
       "4                                   5         184268           1        1   \n",
       "\n",
       "                   unsub_dt               modified_dt  \n",
       "0  Sat, 1971-06-12 15:38:44  Thu, 1990-06-28 10:54:20  \n",
       "1  Wed, 2006-07-12 01:50:45  Thu, 1979-09-20 06:02:35  \n",
       "2  Tue, 1987-01-06 13:05:15  Sun, 1974-03-03 15:11:50  \n",
       "3  Sat, 2016-08-06 11:06:09  Wed, 1995-09-13 23:45:03  \n",
       "4  Sun, 2000-05-28 02:20:45  Sat, 1983-12-10 08:09:58  "
      ]
     },
     "execution_count": 28,
     "metadata": {},
     "output_type": "execute_result"
    }
   ],
   "source": [
    "subs_df = pandas.read_csv(subs_filename, sep = ',', header = 0)\n",
    "print(\"The Constituent Subscription Status dataframe contains %d rows and %d columns\" %subs_df.shape)\n",
    "subs_df.head()"
   ]
  },
  {
   "cell_type": "markdown",
   "metadata": {},
   "source": [
    "# Exercise 1\n",
    "\n",
    "First, we do some data manipulation for each of the 3 files. This manipulation adds 'sub_' prefix to each of the variable names to indicate a subset of data"
   ]
  },
  {
   "cell_type": "markdown",
   "metadata": {},
   "source": [
    "For the **Consituent Information** dataframe, we keep the following relevant columns:\n",
    "* **cons_id** is the unique identifier of the constituent\n",
    "* **source** is the source code of the data\n",
    "* **create_dt** is the person creation datetime\n",
    "* **modified_dt** is the person updated datetime"
   ]
  },
  {
   "cell_type": "code",
   "execution_count": 8,
   "metadata": {},
   "outputs": [],
   "source": [
    "sub_cons_df = cons_df[['cons_id', 'source', 'create_dt', 'modified_dt']]"
   ]
  },
  {
   "cell_type": "markdown",
   "metadata": {},
   "source": [
    "For the **Consituent Email Addresses** dataframe, we first keep the primary email addresses and then we select the following relevant columns:\n",
    "* **cons_email_id** is the unique identifier of the constituent's email\n",
    "* **cons_id** is the unique identifier of the constituent\n",
    "* **email** is the constituent's email address"
   ]
  },
  {
   "cell_type": "code",
   "execution_count": null,
   "metadata": {},
   "outputs": [],
   "source": [
    "sub_email_df = email_df[email_df.is_primary == 1].reset_index(drop=True)\n",
    "sub_email_df = sub_email_df[['cons_email_id', 'cons_id', 'email']]"
   ]
  },
  {
   "cell_type": "markdown",
   "metadata": {},
   "source": [
    "For the **Consituent Subscription Status** dataframe, we are interested in subcriptions with chapter_id = 1 and we select the following relevant columns:\n",
    "* **cons_email_id** is the unique identifier of the constituent's email\n",
    "* **cons_email_chapter_subscription_id** is the unique identifier of the constituent's email subscription\n",
    "* **isunsub** is the constituent's email address unsubscribed"
   ]
  },
  {
   "cell_type": "code",
   "execution_count": null,
   "metadata": {},
   "outputs": [],
   "source": [
    "subs_df = subs_df[subs_df.chapter_id == 1].reset_index(drop=True)\n",
    "sub_subs_df = subs_df[['cons_email_id','cons_email_chapter_subscription_id','isunsub']]"
   ]
  },
  {
   "cell_type": "markdown",
   "metadata": {},
   "source": []
  },
  {
   "cell_type": "code",
   "execution_count": 9,
   "metadata": {},
   "outputs": [
    {
     "name": "stdout",
     "output_type": "stream",
     "text": [
      "(700000, 6)\n",
      "(700000, 8)\n"
     ]
    }
   ],
   "source": [
    "cons_email_df = pandas.merge(sub_cons_df, sub_email_df, how='left', on='cons_id')\n",
    "print(cons_email_df.shape)\n",
    "\n",
    "cons_email_subs_df = pandas.merge(cons_email_df, sub_subs_df, how='left', on='cons_email_id')\n",
    "print(cons_email_subs_df.shape)"
   ]
  },
  {
   "cell_type": "code",
   "execution_count": 10,
   "metadata": {},
   "outputs": [],
   "source": [
    "people_columns = {\"email\":\"email\"\n",
    "                  , \"source\":\"code\"\n",
    "                  , \"isunsub\":\"is_unsub\"\n",
    "                  , \"create_dt\":\"created_dt\"\n",
    "                  , \"modified_dt\":\"updated_dt\"}\n",
    "people_df = cons_email_subs_df[people_columns.keys()]\n",
    "people_df = people_df.rename(columns = people_columns)"
   ]
  },
  {
   "cell_type": "code",
   "execution_count": 11,
   "metadata": {},
   "outputs": [],
   "source": [
    "people_df.head()\n",
    "people_df.fillna(value={'is_unsub':0.0}, inplace = True)"
   ]
  },
  {
   "cell_type": "code",
   "execution_count": 12,
   "metadata": {},
   "outputs": [],
   "source": [
    "people_df['created_dt'] = pandas.to_datetime(people_df['created_dt'], format='%a, %Y-%m-%d %H:%M:%S')"
   ]
  },
  {
   "cell_type": "code",
   "execution_count": 13,
   "metadata": {},
   "outputs": [],
   "source": [
    "people_df['updated_dt'] = pandas.to_datetime(people_df['updated_dt'], format='%a, %Y-%m-%d %H:%M:%S')"
   ]
  },
  {
   "cell_type": "code",
   "execution_count": 14,
   "metadata": {},
   "outputs": [],
   "source": [
    "people_df.to_csv('people.csv', index=False)"
   ]
  },
  {
   "cell_type": "markdown",
   "metadata": {},
   "source": [
    "# Exercise 2"
   ]
  },
  {
   "cell_type": "code",
   "execution_count": 18,
   "metadata": {},
   "outputs": [],
   "source": [
    "people_df['acquisition_date'] = people_df['created_dt'].dt.date\n",
    "acquisition_df = people_df.groupby(['acquisition_date']).size()"
   ]
  },
  {
   "cell_type": "code",
   "execution_count": 19,
   "metadata": {},
   "outputs": [
    {
     "data": {
      "text/plain": [
       "acquisition_date\n",
       "1970-01-01    34\n",
       "1970-01-02    38\n",
       "1970-01-03    32\n",
       "1970-01-04    39\n",
       "1970-01-05    44\n",
       "              ..\n",
       "2020-06-27    39\n",
       "2020-06-28    38\n",
       "2020-06-29    30\n",
       "2020-06-30    47\n",
       "2020-07-01    29\n",
       "Length: 18445, dtype: int64"
      ]
     },
     "execution_count": 19,
     "metadata": {},
     "output_type": "execute_result"
    }
   ],
   "source": [
    "acquisition_df"
   ]
  },
  {
   "cell_type": "code",
   "execution_count": 22,
   "metadata": {},
   "outputs": [],
   "source": [
    "acquisition_df.to_csv('acquisition_facts.csv', index=False)"
   ]
  },
  {
   "cell_type": "code",
   "execution_count": null,
   "metadata": {},
   "outputs": [],
   "source": []
  }
 ],
 "metadata": {
  "kernelspec": {
   "display_name": "Python 3",
   "language": "python",
   "name": "python3"
  },
  "language_info": {
   "codemirror_mode": {
    "name": "ipython",
    "version": 3
   },
   "file_extension": ".py",
   "mimetype": "text/x-python",
   "name": "python",
   "nbconvert_exporter": "python",
   "pygments_lexer": "ipython3",
   "version": "3.8.5"
  }
 },
 "nbformat": 4,
 "nbformat_minor": 4
}
