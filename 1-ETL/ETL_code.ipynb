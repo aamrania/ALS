{
 "cells": [
  {
   "cell_type": "markdown",
   "metadata": {},
   "source": [
    "# Importing packages\n",
    "\n",
    "In this exercise, we will use the software library **pandas** for data manipulation and analysis "
   ]
  },
  {
   "cell_type": "code",
   "execution_count": 1,
   "metadata": {},
   "outputs": [],
   "source": [
    "import pandas"
   ]
  },
  {
   "cell_type": "markdown",
   "metadata": {},
   "source": [
    "# Reading files\n",
    "\n",
    "First, we define the file names of the CRM data\n",
    "* **cons_filename** contains the Consituent Information\n",
    "* **email_filename** contains the Constituent Email Addresses\n",
    "* **subs_filename** contains the Constituent Subscription Status"
   ]
  },
  {
   "cell_type": "code",
   "execution_count": 2,
   "metadata": {},
   "outputs": [],
   "source": [
    "cons_filename = 'https://als-hiring.s3.amazonaws.com/fake_data/2020-07-01_17%3A11%3A00/cons.csv'\n",
    "email_filename = 'https://als-hiring.s3.amazonaws.com/fake_data/2020-07-01_17%3A11%3A00/cons_email.csv'\n",
    "subs_filename = 'https://als-hiring.s3.amazonaws.com/fake_data/2020-07-01_17%3A11%3A00/cons_email_chapter_subscription.csv'"
   ]
  },
  {
   "cell_type": "markdown",
   "metadata": {},
   "source": [
    "Then, we read each of those files using *read_csv* pandas function and show the first rows of each dataframe"
   ]
  },
  {
   "cell_type": "code",
   "execution_count": 3,
   "metadata": {
    "scrolled": true
   },
   "outputs": [
    {
     "name": "stdout",
     "output_type": "stream",
     "text": [
      "The Constituent Information dataframe contains 700000 rows and 29 columns\n"
     ]
    },
    {
     "data": {
      "text/html": [
       "<div>\n",
       "<style scoped>\n",
       "    .dataframe tbody tr th:only-of-type {\n",
       "        vertical-align: middle;\n",
       "    }\n",
       "\n",
       "    .dataframe tbody tr th {\n",
       "        vertical-align: top;\n",
       "    }\n",
       "\n",
       "    .dataframe thead th {\n",
       "        text-align: right;\n",
       "    }\n",
       "</style>\n",
       "<table border=\"1\" class=\"dataframe\">\n",
       "  <thead>\n",
       "    <tr style=\"text-align: right;\">\n",
       "      <th></th>\n",
       "      <th>cons_id</th>\n",
       "      <th>prefix</th>\n",
       "      <th>firstname</th>\n",
       "      <th>middlename</th>\n",
       "      <th>lastname</th>\n",
       "      <th>suffix</th>\n",
       "      <th>salutation</th>\n",
       "      <th>gender</th>\n",
       "      <th>birth_dt</th>\n",
       "      <th>title</th>\n",
       "      <th>...</th>\n",
       "      <th>change_password_next_login</th>\n",
       "      <th>consent_type_id</th>\n",
       "      <th>create_dt</th>\n",
       "      <th>create_app</th>\n",
       "      <th>create_user</th>\n",
       "      <th>modified_dt</th>\n",
       "      <th>modified_app</th>\n",
       "      <th>modified_user</th>\n",
       "      <th>status</th>\n",
       "      <th>note</th>\n",
       "    </tr>\n",
       "  </thead>\n",
       "  <tbody>\n",
       "    <tr>\n",
       "      <th>0</th>\n",
       "      <td>1</td>\n",
       "      <td>NaN</td>\n",
       "      <td>NaN</td>\n",
       "      <td>Lee</td>\n",
       "      <td>NaN</td>\n",
       "      <td>MD</td>\n",
       "      <td>NaN</td>\n",
       "      <td>E</td>\n",
       "      <td>NaN</td>\n",
       "      <td>vSkSIzEQJdXnqeTTTXSG</td>\n",
       "      <td>...</td>\n",
       "      <td>0</td>\n",
       "      <td>5958</td>\n",
       "      <td>Fri, 1983-08-26 06:02:03</td>\n",
       "      <td>1484</td>\n",
       "      <td>6162</td>\n",
       "      <td>Sun, 2015-12-27 09:28:02</td>\n",
       "      <td>4022</td>\n",
       "      <td>6349</td>\n",
       "      <td>1</td>\n",
       "      <td>NaN</td>\n",
       "    </tr>\n",
       "    <tr>\n",
       "      <th>1</th>\n",
       "      <td>2</td>\n",
       "      <td>NaN</td>\n",
       "      <td>NaN</td>\n",
       "      <td>NaN</td>\n",
       "      <td>NaN</td>\n",
       "      <td>II</td>\n",
       "      <td>boFqBKgLlSgEZsFrgCZd</td>\n",
       "      <td>E</td>\n",
       "      <td>Mon, 2004-11-15</td>\n",
       "      <td>NaN</td>\n",
       "      <td>...</td>\n",
       "      <td>1</td>\n",
       "      <td>4236</td>\n",
       "      <td>Mon, 1979-03-05 21:08:54</td>\n",
       "      <td>4176</td>\n",
       "      <td>5476</td>\n",
       "      <td>Tue, 1989-06-20 13:28:57</td>\n",
       "      <td>9010</td>\n",
       "      <td>5698</td>\n",
       "      <td>1</td>\n",
       "      <td>NaN</td>\n",
       "    </tr>\n",
       "    <tr>\n",
       "      <th>2</th>\n",
       "      <td>3</td>\n",
       "      <td>NaN</td>\n",
       "      <td>NaN</td>\n",
       "      <td>David</td>\n",
       "      <td>King</td>\n",
       "      <td>NaN</td>\n",
       "      <td>NaN</td>\n",
       "      <td>D</td>\n",
       "      <td>Fri, 1994-04-08</td>\n",
       "      <td>bxGxufoNzpKvjwNIxgRj</td>\n",
       "      <td>...</td>\n",
       "      <td>1</td>\n",
       "      <td>1263</td>\n",
       "      <td>Fri, 2008-08-22 19:20:28</td>\n",
       "      <td>4702</td>\n",
       "      <td>8239</td>\n",
       "      <td>Fri, 2020-06-05 18:13:57</td>\n",
       "      <td>8837</td>\n",
       "      <td>1175</td>\n",
       "      <td>1</td>\n",
       "      <td>NaN</td>\n",
       "    </tr>\n",
       "    <tr>\n",
       "      <th>3</th>\n",
       "      <td>4</td>\n",
       "      <td>Ms.</td>\n",
       "      <td>Mark</td>\n",
       "      <td>Gregg</td>\n",
       "      <td>NaN</td>\n",
       "      <td>NaN</td>\n",
       "      <td>NaN</td>\n",
       "      <td>J</td>\n",
       "      <td>NaN</td>\n",
       "      <td>NaN</td>\n",
       "      <td>...</td>\n",
       "      <td>0</td>\n",
       "      <td>949</td>\n",
       "      <td>Sun, 1984-04-29 11:18:18</td>\n",
       "      <td>7096</td>\n",
       "      <td>7875</td>\n",
       "      <td>Tue, 2012-01-31 07:26:35</td>\n",
       "      <td>7529</td>\n",
       "      <td>3984</td>\n",
       "      <td>1</td>\n",
       "      <td>NaN</td>\n",
       "    </tr>\n",
       "    <tr>\n",
       "      <th>4</th>\n",
       "      <td>5</td>\n",
       "      <td>NaN</td>\n",
       "      <td>NaN</td>\n",
       "      <td>Logan</td>\n",
       "      <td>NaN</td>\n",
       "      <td>DDS</td>\n",
       "      <td>ArvPJuEozHPaqbirovMi</td>\n",
       "      <td>D</td>\n",
       "      <td>Sun, 2008-08-10</td>\n",
       "      <td>kXKlKCyCBoXUBVejPOVO</td>\n",
       "      <td>...</td>\n",
       "      <td>0</td>\n",
       "      <td>7126</td>\n",
       "      <td>Thu, 2007-07-19 18:28:09</td>\n",
       "      <td>706</td>\n",
       "      <td>5727</td>\n",
       "      <td>Tue, 1971-04-27 06:53:53</td>\n",
       "      <td>9356</td>\n",
       "      <td>6062</td>\n",
       "      <td>1</td>\n",
       "      <td>NaN</td>\n",
       "    </tr>\n",
       "  </tbody>\n",
       "</table>\n",
       "<p>5 rows × 29 columns</p>\n",
       "</div>"
      ],
      "text/plain": [
       "   cons_id prefix firstname middlename lastname suffix            salutation  \\\n",
       "0        1    NaN       NaN        Lee      NaN     MD                   NaN   \n",
       "1        2    NaN       NaN        NaN      NaN     II  boFqBKgLlSgEZsFrgCZd   \n",
       "2        3    NaN       NaN      David     King    NaN                   NaN   \n",
       "3        4    Ms.      Mark      Gregg      NaN    NaN                   NaN   \n",
       "4        5    NaN       NaN      Logan      NaN    DDS  ArvPJuEozHPaqbirovMi   \n",
       "\n",
       "  gender         birth_dt                 title  ...  \\\n",
       "0      E              NaN  vSkSIzEQJdXnqeTTTXSG  ...   \n",
       "1      E  Mon, 2004-11-15                   NaN  ...   \n",
       "2      D  Fri, 1994-04-08  bxGxufoNzpKvjwNIxgRj  ...   \n",
       "3      J              NaN                   NaN  ...   \n",
       "4      D  Sun, 2008-08-10  kXKlKCyCBoXUBVejPOVO  ...   \n",
       "\n",
       "  change_password_next_login consent_type_id                 create_dt  \\\n",
       "0                          0            5958  Fri, 1983-08-26 06:02:03   \n",
       "1                          1            4236  Mon, 1979-03-05 21:08:54   \n",
       "2                          1            1263  Fri, 2008-08-22 19:20:28   \n",
       "3                          0             949  Sun, 1984-04-29 11:18:18   \n",
       "4                          0            7126  Thu, 2007-07-19 18:28:09   \n",
       "\n",
       "  create_app create_user               modified_dt modified_app  \\\n",
       "0       1484        6162  Sun, 2015-12-27 09:28:02         4022   \n",
       "1       4176        5476  Tue, 1989-06-20 13:28:57         9010   \n",
       "2       4702        8239  Fri, 2020-06-05 18:13:57         8837   \n",
       "3       7096        7875  Tue, 2012-01-31 07:26:35         7529   \n",
       "4        706        5727  Tue, 1971-04-27 06:53:53         9356   \n",
       "\n",
       "   modified_user  status  note  \n",
       "0           6349       1   NaN  \n",
       "1           5698       1   NaN  \n",
       "2           1175       1   NaN  \n",
       "3           3984       1   NaN  \n",
       "4           6062       1   NaN  \n",
       "\n",
       "[5 rows x 29 columns]"
      ]
     },
     "execution_count": 3,
     "metadata": {},
     "output_type": "execute_result"
    }
   ],
   "source": [
    "cons_df = pandas.read_csv(cons_filename, sep = ',', header = 0)\n",
    "print(\"The Constituent Information dataframe contains %d rows and %d columns\" %cons_df.shape)\n",
    "cons_df.head()"
   ]
  },
  {
   "cell_type": "code",
   "execution_count": 4,
   "metadata": {},
   "outputs": [
    {
     "name": "stdout",
     "output_type": "stream",
     "text": [
      "The Constituent Email Addresses dataframe contains 1400000 rows and 16 columns\n"
     ]
    },
    {
     "data": {
      "text/html": [
       "<div>\n",
       "<style scoped>\n",
       "    .dataframe tbody tr th:only-of-type {\n",
       "        vertical-align: middle;\n",
       "    }\n",
       "\n",
       "    .dataframe tbody tr th {\n",
       "        vertical-align: top;\n",
       "    }\n",
       "\n",
       "    .dataframe thead th {\n",
       "        text-align: right;\n",
       "    }\n",
       "</style>\n",
       "<table border=\"1\" class=\"dataframe\">\n",
       "  <thead>\n",
       "    <tr style=\"text-align: right;\">\n",
       "      <th></th>\n",
       "      <th>cons_email_id</th>\n",
       "      <th>cons_id</th>\n",
       "      <th>cons_email_type_id</th>\n",
       "      <th>is_primary</th>\n",
       "      <th>email</th>\n",
       "      <th>canonical_local_part</th>\n",
       "      <th>domain</th>\n",
       "      <th>double_validation</th>\n",
       "      <th>create_dt</th>\n",
       "      <th>create_app</th>\n",
       "      <th>create_user</th>\n",
       "      <th>modified_dt</th>\n",
       "      <th>modified_app</th>\n",
       "      <th>modified_user</th>\n",
       "      <th>status</th>\n",
       "      <th>note</th>\n",
       "    </tr>\n",
       "  </thead>\n",
       "  <tbody>\n",
       "    <tr>\n",
       "      <th>0</th>\n",
       "      <td>1</td>\n",
       "      <td>548198</td>\n",
       "      <td>3361</td>\n",
       "      <td>1</td>\n",
       "      <td>xmartinez@vincent.com</td>\n",
       "      <td>NaN</td>\n",
       "      <td>gmail.com</td>\n",
       "      <td>NaN</td>\n",
       "      <td>Wed, 1994-01-26 23:49:16</td>\n",
       "      <td>4072</td>\n",
       "      <td>9954</td>\n",
       "      <td>Sat, 2014-04-19 19:10:39</td>\n",
       "      <td>1990</td>\n",
       "      <td>7595</td>\n",
       "      <td>1</td>\n",
       "      <td>NaN</td>\n",
       "    </tr>\n",
       "    <tr>\n",
       "      <th>1</th>\n",
       "      <td>2</td>\n",
       "      <td>491137</td>\n",
       "      <td>2474</td>\n",
       "      <td>1</td>\n",
       "      <td>hmiller@haynes.biz</td>\n",
       "      <td>jqCyozTDojYuylQPTHfm</td>\n",
       "      <td>hotmail.com</td>\n",
       "      <td>NaN</td>\n",
       "      <td>Thu, 1999-12-09 06:18:27</td>\n",
       "      <td>1600</td>\n",
       "      <td>5716</td>\n",
       "      <td>Sat, 1984-07-14 05:55:27</td>\n",
       "      <td>4686</td>\n",
       "      <td>3248</td>\n",
       "      <td>1</td>\n",
       "      <td>NaN</td>\n",
       "    </tr>\n",
       "    <tr>\n",
       "      <th>2</th>\n",
       "      <td>3</td>\n",
       "      <td>413429</td>\n",
       "      <td>5175</td>\n",
       "      <td>1</td>\n",
       "      <td>aaron64@yahoo.com</td>\n",
       "      <td>FCBeBiVoqnnKDWjnllhN</td>\n",
       "      <td>yahoo.com</td>\n",
       "      <td>kRLZexQEwYIMbwFNvQxg</td>\n",
       "      <td>Wed, 1992-11-18 16:46:27</td>\n",
       "      <td>7358</td>\n",
       "      <td>2685</td>\n",
       "      <td>Sun, 1995-12-24 13:13:01</td>\n",
       "      <td>3857</td>\n",
       "      <td>7405</td>\n",
       "      <td>1</td>\n",
       "      <td>NaN</td>\n",
       "    </tr>\n",
       "    <tr>\n",
       "      <th>3</th>\n",
       "      <td>4</td>\n",
       "      <td>347346</td>\n",
       "      <td>4117</td>\n",
       "      <td>1</td>\n",
       "      <td>wyattvincent@hotmail.com</td>\n",
       "      <td>NaN</td>\n",
       "      <td>gmail.com</td>\n",
       "      <td>zSbfmlqXimGyWVBUGdQg</td>\n",
       "      <td>Sat, 1983-11-26 16:49:14</td>\n",
       "      <td>881</td>\n",
       "      <td>3444</td>\n",
       "      <td>Sun, 1975-01-19 14:32:56</td>\n",
       "      <td>8713</td>\n",
       "      <td>7713</td>\n",
       "      <td>1</td>\n",
       "      <td>NaN</td>\n",
       "    </tr>\n",
       "    <tr>\n",
       "      <th>4</th>\n",
       "      <td>5</td>\n",
       "      <td>443000</td>\n",
       "      <td>6781</td>\n",
       "      <td>1</td>\n",
       "      <td>tspencer@hotmail.com</td>\n",
       "      <td>VaQIYlKcUkIywkKKEptD</td>\n",
       "      <td>gmail.com</td>\n",
       "      <td>NaN</td>\n",
       "      <td>Wed, 2000-11-15 13:28:34</td>\n",
       "      <td>5380</td>\n",
       "      <td>5456</td>\n",
       "      <td>Sun, 1994-03-13 16:38:37</td>\n",
       "      <td>765</td>\n",
       "      <td>8618</td>\n",
       "      <td>1</td>\n",
       "      <td>NaN</td>\n",
       "    </tr>\n",
       "  </tbody>\n",
       "</table>\n",
       "</div>"
      ],
      "text/plain": [
       "   cons_email_id  cons_id  cons_email_type_id  is_primary  \\\n",
       "0              1   548198                3361           1   \n",
       "1              2   491137                2474           1   \n",
       "2              3   413429                5175           1   \n",
       "3              4   347346                4117           1   \n",
       "4              5   443000                6781           1   \n",
       "\n",
       "                      email  canonical_local_part       domain  \\\n",
       "0     xmartinez@vincent.com                   NaN    gmail.com   \n",
       "1        hmiller@haynes.biz  jqCyozTDojYuylQPTHfm  hotmail.com   \n",
       "2         aaron64@yahoo.com  FCBeBiVoqnnKDWjnllhN    yahoo.com   \n",
       "3  wyattvincent@hotmail.com                   NaN    gmail.com   \n",
       "4      tspencer@hotmail.com  VaQIYlKcUkIywkKKEptD    gmail.com   \n",
       "\n",
       "      double_validation                 create_dt  create_app  create_user  \\\n",
       "0                   NaN  Wed, 1994-01-26 23:49:16        4072         9954   \n",
       "1                   NaN  Thu, 1999-12-09 06:18:27        1600         5716   \n",
       "2  kRLZexQEwYIMbwFNvQxg  Wed, 1992-11-18 16:46:27        7358         2685   \n",
       "3  zSbfmlqXimGyWVBUGdQg  Sat, 1983-11-26 16:49:14         881         3444   \n",
       "4                   NaN  Wed, 2000-11-15 13:28:34        5380         5456   \n",
       "\n",
       "                modified_dt  modified_app  modified_user  status note  \n",
       "0  Sat, 2014-04-19 19:10:39          1990           7595       1  NaN  \n",
       "1  Sat, 1984-07-14 05:55:27          4686           3248       1  NaN  \n",
       "2  Sun, 1995-12-24 13:13:01          3857           7405       1  NaN  \n",
       "3  Sun, 1975-01-19 14:32:56          8713           7713       1  NaN  \n",
       "4  Sun, 1994-03-13 16:38:37           765           8618       1  NaN  "
      ]
     },
     "execution_count": 4,
     "metadata": {},
     "output_type": "execute_result"
    }
   ],
   "source": [
    "email_df = pandas.read_csv(email_filename, sep = ',', header = 0)\n",
    "print(\"The Constituent Email Addresses dataframe contains %d rows and %d columns\" %email_df.shape)\n",
    "email_df.head()"
   ]
  },
  {
   "cell_type": "code",
   "execution_count": 5,
   "metadata": {},
   "outputs": [
    {
     "name": "stdout",
     "output_type": "stream",
     "text": [
      "The Constituent Subscription Status dataframe contains 350000 rows and 6 columns\n"
     ]
    },
    {
     "data": {
      "text/html": [
       "<div>\n",
       "<style scoped>\n",
       "    .dataframe tbody tr th:only-of-type {\n",
       "        vertical-align: middle;\n",
       "    }\n",
       "\n",
       "    .dataframe tbody tr th {\n",
       "        vertical-align: top;\n",
       "    }\n",
       "\n",
       "    .dataframe thead th {\n",
       "        text-align: right;\n",
       "    }\n",
       "</style>\n",
       "<table border=\"1\" class=\"dataframe\">\n",
       "  <thead>\n",
       "    <tr style=\"text-align: right;\">\n",
       "      <th></th>\n",
       "      <th>cons_email_chapter_subscription_id</th>\n",
       "      <th>cons_email_id</th>\n",
       "      <th>chapter_id</th>\n",
       "      <th>isunsub</th>\n",
       "      <th>unsub_dt</th>\n",
       "      <th>modified_dt</th>\n",
       "    </tr>\n",
       "  </thead>\n",
       "  <tbody>\n",
       "    <tr>\n",
       "      <th>0</th>\n",
       "      <td>1</td>\n",
       "      <td>332188</td>\n",
       "      <td>1</td>\n",
       "      <td>1</td>\n",
       "      <td>Sat, 1971-06-12 15:38:44</td>\n",
       "      <td>Thu, 1990-06-28 10:54:20</td>\n",
       "    </tr>\n",
       "    <tr>\n",
       "      <th>1</th>\n",
       "      <td>2</td>\n",
       "      <td>536526</td>\n",
       "      <td>1</td>\n",
       "      <td>1</td>\n",
       "      <td>Wed, 2006-07-12 01:50:45</td>\n",
       "      <td>Thu, 1979-09-20 06:02:35</td>\n",
       "    </tr>\n",
       "    <tr>\n",
       "      <th>2</th>\n",
       "      <td>3</td>\n",
       "      <td>134711</td>\n",
       "      <td>1</td>\n",
       "      <td>1</td>\n",
       "      <td>Tue, 1987-01-06 13:05:15</td>\n",
       "      <td>Sun, 1974-03-03 15:11:50</td>\n",
       "    </tr>\n",
       "    <tr>\n",
       "      <th>3</th>\n",
       "      <td>4</td>\n",
       "      <td>660345</td>\n",
       "      <td>1</td>\n",
       "      <td>1</td>\n",
       "      <td>Sat, 2016-08-06 11:06:09</td>\n",
       "      <td>Wed, 1995-09-13 23:45:03</td>\n",
       "    </tr>\n",
       "    <tr>\n",
       "      <th>4</th>\n",
       "      <td>5</td>\n",
       "      <td>184268</td>\n",
       "      <td>1</td>\n",
       "      <td>1</td>\n",
       "      <td>Sun, 2000-05-28 02:20:45</td>\n",
       "      <td>Sat, 1983-12-10 08:09:58</td>\n",
       "    </tr>\n",
       "  </tbody>\n",
       "</table>\n",
       "</div>"
      ],
      "text/plain": [
       "   cons_email_chapter_subscription_id  cons_email_id  chapter_id  isunsub  \\\n",
       "0                                   1         332188           1        1   \n",
       "1                                   2         536526           1        1   \n",
       "2                                   3         134711           1        1   \n",
       "3                                   4         660345           1        1   \n",
       "4                                   5         184268           1        1   \n",
       "\n",
       "                   unsub_dt               modified_dt  \n",
       "0  Sat, 1971-06-12 15:38:44  Thu, 1990-06-28 10:54:20  \n",
       "1  Wed, 2006-07-12 01:50:45  Thu, 1979-09-20 06:02:35  \n",
       "2  Tue, 1987-01-06 13:05:15  Sun, 1974-03-03 15:11:50  \n",
       "3  Sat, 2016-08-06 11:06:09  Wed, 1995-09-13 23:45:03  \n",
       "4  Sun, 2000-05-28 02:20:45  Sat, 1983-12-10 08:09:58  "
      ]
     },
     "execution_count": 5,
     "metadata": {},
     "output_type": "execute_result"
    }
   ],
   "source": [
    "subs_df = pandas.read_csv(subs_filename, sep = ',', header = 0)\n",
    "print(\"The Constituent Subscription Status dataframe contains %d rows and %d columns\" %subs_df.shape)\n",
    "subs_df.head()"
   ]
  },
  {
   "cell_type": "markdown",
   "metadata": {},
   "source": [
    "# Exercise 1\n",
    "\n",
    "First, we do some data manipulation for each of the 3 files. This manipulation adds 'sub_' prefix to each of the variable names to indicate a subset of data"
   ]
  },
  {
   "cell_type": "markdown",
   "metadata": {},
   "source": [
    "For the **Consituent Information** dataframe, we keep the following relevant columns:\n",
    "* **cons_id** is the unique identifier of the constituent\n",
    "* **source** is the source code of the data\n",
    "* **create_dt** is the person creation datetime\n",
    "* **modified_dt** is the person updated datetime"
   ]
  },
  {
   "cell_type": "code",
   "execution_count": 6,
   "metadata": {},
   "outputs": [],
   "source": [
    "sub_cons_df = cons_df[['cons_id', 'source', 'create_dt', 'modified_dt']]"
   ]
  },
  {
   "cell_type": "markdown",
   "metadata": {},
   "source": [
    "For the **Consituent Email Addresses** dataframe, we first keep the primary email addresses and then we select the following relevant columns:\n",
    "* **cons_email_id** is the unique identifier of the constituent's email\n",
    "* **cons_id** is the unique identifier of the constituent\n",
    "* **email** is the constituent's email address"
   ]
  },
  {
   "cell_type": "code",
   "execution_count": 7,
   "metadata": {},
   "outputs": [],
   "source": [
    "sub_email_df = email_df[email_df.is_primary == 1].reset_index(drop=True)\n",
    "sub_email_df = sub_email_df[['cons_email_id', 'cons_id', 'email']]"
   ]
  },
  {
   "cell_type": "markdown",
   "metadata": {},
   "source": [
    "For the **Consituent Subscription Status** dataframe, we are interested in subcriptions with chapter_id = 1 and we select the following relevant columns:\n",
    "* **cons_email_id** is the unique identifier of the constituent's email\n",
    "* **cons_email_chapter_subscription_id** is the unique identifier of the constituent's email subscription\n",
    "* **isunsub** is the constituent's email address unsubscribed"
   ]
  },
  {
   "cell_type": "code",
   "execution_count": 8,
   "metadata": {},
   "outputs": [],
   "source": [
    "subs_df = subs_df[subs_df.chapter_id == 1].reset_index(drop=True)\n",
    "sub_subs_df = subs_df[['cons_email_id','cons_email_chapter_subscription_id','isunsub']]"
   ]
  },
  {
   "cell_type": "markdown",
   "metadata": {},
   "source": [
    "1. First, we merge constituent information and constituent email addresses using **cons_id**. Since only 605639 constituents have a primary email address, we use an inner join and we ignore the rest. PS: A left join would have produced 700000 rows!"
   ]
  },
  {
   "cell_type": "code",
   "execution_count": 9,
   "metadata": {},
   "outputs": [
    {
     "name": "stdout",
     "output_type": "stream",
     "text": [
      "(605639, 6)\n"
     ]
    }
   ],
   "source": [
    "cons_email_df = pandas.merge(sub_cons_df, sub_email_df, how='inner', on='cons_id')\n",
    "print(cons_email_df.shape)"
   ]
  },
  {
   "cell_type": "markdown",
   "metadata": {},
   "source": [
    "2. Second, we merge the intermediary dataframe and constituent subscription dataframe using **cons_email_id**. Since the constituent subscription status have a unique **cons_email_id** when chapter_id = 1, we keep the same number of rows as the intermediary dataset"
   ]
  },
  {
   "cell_type": "code",
   "execution_count": 10,
   "metadata": {},
   "outputs": [
    {
     "name": "stdout",
     "output_type": "stream",
     "text": [
      "(605639, 8)\n"
     ]
    }
   ],
   "source": [
    "cons_email_subs_df = pandas.merge(cons_email_df, sub_subs_df, how='left', on='cons_email_id')\n",
    "print(cons_email_subs_df.shape)"
   ]
  },
  {
   "cell_type": "markdown",
   "metadata": {},
   "source": [
    "In the output file, we select only the columns of interest and we rename them following the deliverable's convention"
   ]
  },
  {
   "cell_type": "code",
   "execution_count": 11,
   "metadata": {},
   "outputs": [],
   "source": [
    "people_columns = {\"email\":\"email\"\n",
    "                  , \"source\":\"code\"\n",
    "                  , \"isunsub\":\"is_unsub\"\n",
    "                  , \"create_dt\":\"created_dt\"\n",
    "                  , \"modified_dt\":\"updated_dt\"}\n",
    "people_df = cons_email_subs_df[people_columns.keys()]\n",
    "people_df = people_df.rename(columns = people_columns)"
   ]
  },
  {
   "cell_type": "markdown",
   "metadata": {},
   "source": [
    "If an email is not present in this table, it is assumed to still be subscribed. That said, the missing primary emails are subscribed and is_unsub = 0."
   ]
  },
  {
   "cell_type": "code",
   "execution_count": 12,
   "metadata": {},
   "outputs": [],
   "source": [
    "people_df.fillna(value={'is_unsub':0.0}, inplace = True)"
   ]
  },
  {
   "cell_type": "markdown",
   "metadata": {},
   "source": [
    "We convert the created_dt and updated_dt columns from string to datetime."
   ]
  },
  {
   "cell_type": "code",
   "execution_count": 13,
   "metadata": {},
   "outputs": [],
   "source": [
    "people_df['is_unsub'] = people_df['is_unsub'].astype(int)\n",
    "people_df['created_dt'] = pandas.to_datetime(people_df['created_dt'], format='%a, %Y-%m-%d %H:%M:%S')\n",
    "people_df['updated_dt'] = pandas.to_datetime(people_df['updated_dt'], format='%a, %Y-%m-%d %H:%M:%S')"
   ]
  },
  {
   "cell_type": "markdown",
   "metadata": {},
   "source": [
    "We display row examples from the people dataframe"
   ]
  },
  {
   "cell_type": "code",
   "execution_count": 14,
   "metadata": {},
   "outputs": [
    {
     "data": {
      "text/html": [
       "<div>\n",
       "<style scoped>\n",
       "    .dataframe tbody tr th:only-of-type {\n",
       "        vertical-align: middle;\n",
       "    }\n",
       "\n",
       "    .dataframe tbody tr th {\n",
       "        vertical-align: top;\n",
       "    }\n",
       "\n",
       "    .dataframe thead th {\n",
       "        text-align: right;\n",
       "    }\n",
       "</style>\n",
       "<table border=\"1\" class=\"dataframe\">\n",
       "  <thead>\n",
       "    <tr style=\"text-align: right;\">\n",
       "      <th></th>\n",
       "      <th>email</th>\n",
       "      <th>code</th>\n",
       "      <th>is_unsub</th>\n",
       "      <th>created_dt</th>\n",
       "      <th>updated_dt</th>\n",
       "    </tr>\n",
       "  </thead>\n",
       "  <tbody>\n",
       "    <tr>\n",
       "      <th>0</th>\n",
       "      <td>daniel72@hudson.com</td>\n",
       "      <td>google</td>\n",
       "      <td>0</td>\n",
       "      <td>1983-08-26 06:02:03</td>\n",
       "      <td>2015-12-27 09:28:02</td>\n",
       "    </tr>\n",
       "    <tr>\n",
       "      <th>1</th>\n",
       "      <td>caustin@spears-carson.com</td>\n",
       "      <td>facebook</td>\n",
       "      <td>1</td>\n",
       "      <td>1979-03-05 21:08:54</td>\n",
       "      <td>1989-06-20 13:28:57</td>\n",
       "    </tr>\n",
       "    <tr>\n",
       "      <th>2</th>\n",
       "      <td>klewis@ford.biz</td>\n",
       "      <td>NaN</td>\n",
       "      <td>1</td>\n",
       "      <td>2008-08-22 19:20:28</td>\n",
       "      <td>2020-06-05 18:13:57</td>\n",
       "    </tr>\n",
       "    <tr>\n",
       "      <th>3</th>\n",
       "      <td>stephenhamilton@gmail.com</td>\n",
       "      <td>NaN</td>\n",
       "      <td>1</td>\n",
       "      <td>2007-07-19 18:28:09</td>\n",
       "      <td>1971-04-27 06:53:53</td>\n",
       "    </tr>\n",
       "    <tr>\n",
       "      <th>4</th>\n",
       "      <td>henryherring@gmail.com</td>\n",
       "      <td>google</td>\n",
       "      <td>0</td>\n",
       "      <td>2014-02-15 22:54:27</td>\n",
       "      <td>1999-11-12 06:09:25</td>\n",
       "    </tr>\n",
       "  </tbody>\n",
       "</table>\n",
       "</div>"
      ],
      "text/plain": [
       "                       email      code  is_unsub          created_dt  \\\n",
       "0        daniel72@hudson.com    google         0 1983-08-26 06:02:03   \n",
       "1  caustin@spears-carson.com  facebook         1 1979-03-05 21:08:54   \n",
       "2            klewis@ford.biz       NaN         1 2008-08-22 19:20:28   \n",
       "3  stephenhamilton@gmail.com       NaN         1 2007-07-19 18:28:09   \n",
       "4     henryherring@gmail.com    google         0 2014-02-15 22:54:27   \n",
       "\n",
       "           updated_dt  \n",
       "0 2015-12-27 09:28:02  \n",
       "1 1989-06-20 13:28:57  \n",
       "2 2020-06-05 18:13:57  \n",
       "3 1971-04-27 06:53:53  \n",
       "4 1999-11-12 06:09:25  "
      ]
     },
     "execution_count": 14,
     "metadata": {},
     "output_type": "execute_result"
    }
   ],
   "source": [
    "people_df.head()"
   ]
  },
  {
   "cell_type": "markdown",
   "metadata": {},
   "source": [
    "Finally, we save the people dataframe to a csv file"
   ]
  },
  {
   "cell_type": "code",
   "execution_count": 15,
   "metadata": {},
   "outputs": [],
   "source": [
    "people_df.to_csv('people.csv', index=False)"
   ]
  },
  {
   "cell_type": "markdown",
   "metadata": {},
   "source": [
    "# Exercise 2"
   ]
  },
  {
   "cell_type": "markdown",
   "metadata": {},
   "source": [
    "If we assume that the customer was acquired the day of the profile creation date and the acquisition correpond to the subscription, we extract both the aquicision date and (acquisitions = 1-is_unsub) assuming that is_unsub is a binary variable"
   ]
  },
  {
   "cell_type": "code",
   "execution_count": 16,
   "metadata": {},
   "outputs": [],
   "source": [
    "people_df['acquisition_date'] = people_df['created_dt'].dt.date\n",
    "people_df['acquisitions'] = 1 - people_df['is_unsub']"
   ]
  },
  {
   "cell_type": "markdown",
   "metadata": {},
   "source": [
    "Then, we group by acquisition date and sum over acquisitions"
   ]
  },
  {
   "cell_type": "code",
   "execution_count": 17,
   "metadata": {},
   "outputs": [],
   "source": [
    "acquisition_df = people_df.groupby(['acquisition_date']).agg({'acquisitions':sum})"
   ]
  },
  {
   "cell_type": "markdown",
   "metadata": {},
   "source": [
    "Later, we display the top 10 acquisition dates by acquisitions"
   ]
  },
  {
   "cell_type": "code",
   "execution_count": 18,
   "metadata": {},
   "outputs": [
    {
     "data": {
      "text/html": [
       "<div>\n",
       "<style scoped>\n",
       "    .dataframe tbody tr th:only-of-type {\n",
       "        vertical-align: middle;\n",
       "    }\n",
       "\n",
       "    .dataframe tbody tr th {\n",
       "        vertical-align: top;\n",
       "    }\n",
       "\n",
       "    .dataframe thead th {\n",
       "        text-align: right;\n",
       "    }\n",
       "</style>\n",
       "<table border=\"1\" class=\"dataframe\">\n",
       "  <thead>\n",
       "    <tr style=\"text-align: right;\">\n",
       "      <th></th>\n",
       "      <th>acquisitions</th>\n",
       "    </tr>\n",
       "    <tr>\n",
       "      <th>acquisition_date</th>\n",
       "      <th></th>\n",
       "    </tr>\n",
       "  </thead>\n",
       "  <tbody>\n",
       "    <tr>\n",
       "      <th>1989-05-03</th>\n",
       "      <td>46</td>\n",
       "    </tr>\n",
       "    <tr>\n",
       "      <th>2014-01-18</th>\n",
       "      <td>45</td>\n",
       "    </tr>\n",
       "    <tr>\n",
       "      <th>2011-11-07</th>\n",
       "      <td>44</td>\n",
       "    </tr>\n",
       "    <tr>\n",
       "      <th>1982-09-06</th>\n",
       "      <td>43</td>\n",
       "    </tr>\n",
       "    <tr>\n",
       "      <th>1982-01-16</th>\n",
       "      <td>43</td>\n",
       "    </tr>\n",
       "    <tr>\n",
       "      <th>2014-09-06</th>\n",
       "      <td>43</td>\n",
       "    </tr>\n",
       "    <tr>\n",
       "      <th>1978-04-18</th>\n",
       "      <td>42</td>\n",
       "    </tr>\n",
       "    <tr>\n",
       "      <th>2007-08-23</th>\n",
       "      <td>42</td>\n",
       "    </tr>\n",
       "    <tr>\n",
       "      <th>2012-09-12</th>\n",
       "      <td>42</td>\n",
       "    </tr>\n",
       "    <tr>\n",
       "      <th>1991-07-11</th>\n",
       "      <td>42</td>\n",
       "    </tr>\n",
       "  </tbody>\n",
       "</table>\n",
       "</div>"
      ],
      "text/plain": [
       "                  acquisitions\n",
       "acquisition_date              \n",
       "1989-05-03                  46\n",
       "2014-01-18                  45\n",
       "2011-11-07                  44\n",
       "1982-09-06                  43\n",
       "1982-01-16                  43\n",
       "2014-09-06                  43\n",
       "1978-04-18                  42\n",
       "2007-08-23                  42\n",
       "2012-09-12                  42\n",
       "1991-07-11                  42"
      ]
     },
     "execution_count": 18,
     "metadata": {},
     "output_type": "execute_result"
    }
   ],
   "source": [
    "acquisition_df.sort_values(\"acquisitions\", ascending = False).head(10)"
   ]
  },
  {
   "cell_type": "markdown",
   "metadata": {},
   "source": [
    "Finally, we save the aquicisition_fact dataframe to a csv file"
   ]
  },
  {
   "cell_type": "code",
   "execution_count": 19,
   "metadata": {},
   "outputs": [],
   "source": [
    "acquisition_df.to_csv('acquisition_facts.csv', index=False)"
   ]
  },
  {
   "cell_type": "markdown",
   "metadata": {},
   "source": [
    "# Optional: Data Inconsistency\n",
    "\n",
    "We have found many data insconsistencies across the files and we want to point out few of them in the following:\n",
    "\n",
    "* First we realize that there are around 50% of cases where person creation datetime is later than the person's updated datetime"
   ]
  },
  {
   "cell_type": "code",
   "execution_count": 20,
   "metadata": {},
   "outputs": [
    {
     "name": "stdout",
     "output_type": "stream",
     "text": [
      "    cons_id prefix  firstname middlename  lastname suffix  \\\n",
      "5         6    NaN        NaN        NaN      Holt    NaN   \n",
      "7         8    NaN    Charles     Teresa    Glover    PhD   \n",
      "8         9    NaN      Holly      David       NaN    NaN   \n",
      "9        10    NaN       Chad        NaN       NaN    DVM   \n",
      "10       11    NaN  Gabriella      Steve  Caldwell     MD   \n",
      "\n",
      "              salutation gender         birth_dt                 title  ...  \\\n",
      "5                    NaN      K  Tue, 2003-07-15  DBEfLmqhahjEXOXjLHpF  ...   \n",
      "7                    NaN      O  Mon, 1977-04-04                   NaN  ...   \n",
      "8                    NaN      K              NaN                   NaN  ...   \n",
      "9   YupmMCKEGDZOxnqeIjha    NaN              NaN                   NaN  ...   \n",
      "10                   NaN      E              NaN                   NaN  ...   \n",
      "\n",
      "   change_password_next_login consent_type_id                 create_dt  \\\n",
      "5                           1            9079  Sat, 2014-02-15 22:54:27   \n",
      "7                           0            1416  Tue, 2002-07-30 22:28:38   \n",
      "8                           0            5614  Thu, 2019-08-29 14:50:24   \n",
      "9                           0            7669  Tue, 1987-02-17 11:22:04   \n",
      "10                          0            6820  Thu, 2018-04-19 10:44:52   \n",
      "\n",
      "   create_app create_user               modified_dt modified_app  \\\n",
      "5        7328        6425  Fri, 1999-11-12 06:09:25         2118   \n",
      "7        8257         542  Sat, 1983-07-16 18:30:07         1429   \n",
      "8        4561        1718  Sun, 2009-12-20 14:50:14         3368   \n",
      "9        8761        1288  Sat, 2016-03-19 17:33:38         1405   \n",
      "10       4638        2086  Fri, 1993-06-25 22:34:12         7266   \n",
      "\n",
      "    modified_user  status                              note  \n",
      "5            2494       0  productize customized e-services  \n",
      "7            3195       1    evolve real-time relationships  \n",
      "8            1975       1                               NaN  \n",
      "9            5181       1                               NaN  \n",
      "10            380       1                               NaN  \n",
      "\n",
      "[5 rows x 29 columns]\n"
     ]
    }
   ],
   "source": [
    "print(cons_df[cons_df.modified_dt < cons_df.create_dt].head(5))"
   ]
  },
  {
   "cell_type": "markdown",
   "metadata": {},
   "source": [
    "* Second, there are around 25% of cases where the person's profile creation date is before the person's birth date"
   ]
  },
  {
   "cell_type": "code",
   "execution_count": 21,
   "metadata": {},
   "outputs": [
    {
     "name": "stdout",
     "output_type": "stream",
     "text": [
      "    cons_id prefix firstname middlename  lastname suffix  \\\n",
      "1         2    NaN       NaN        NaN       NaN     II   \n",
      "5         6    NaN       NaN        NaN      Holt    NaN   \n",
      "12       13    Dr.       NaN      Shane       NaN    DVM   \n",
      "13       14    NaN       NaN     Dennis  Erickson    NaN   \n",
      "18       19    NaN   Michael      Randy       NaN    NaN   \n",
      "\n",
      "              salutation gender         birth_dt                 title  ...  \\\n",
      "1   boFqBKgLlSgEZsFrgCZd      E  Mon, 2004-11-15                   NaN  ...   \n",
      "5                    NaN      K  Tue, 2003-07-15  DBEfLmqhahjEXOXjLHpF  ...   \n",
      "12  OwMBJcSUxogZoZAreJmq    NaN  Tue, 1971-04-13  VPIEdzWqwuRLCSrlHgjW  ...   \n",
      "13  dPPHVfYvTdEMXFEoHBfa    NaN  Wed, 2003-08-27                   NaN  ...   \n",
      "18  UVolNtaMjBhXPhlqJpmt      X  Sun, 1999-04-25  zRNSweTnqtszElAkFyGh  ...   \n",
      "\n",
      "   change_password_next_login consent_type_id                 create_dt  \\\n",
      "1                           1            4236  Mon, 1979-03-05 21:08:54   \n",
      "5                           1            9079  Sat, 2014-02-15 22:54:27   \n",
      "12                          0            4913  Sat, 1979-07-21 05:31:38   \n",
      "13                          0            5662  Tue, 1986-03-18 17:54:05   \n",
      "18                          0             181  Mon, 2001-07-02 08:34:01   \n",
      "\n",
      "   create_app create_user               modified_dt modified_app  \\\n",
      "1        4176        5476  Tue, 1989-06-20 13:28:57         9010   \n",
      "5        7328        6425  Fri, 1999-11-12 06:09:25         2118   \n",
      "12       2246        2167  Fri, 1994-03-11 17:52:19         2436   \n",
      "13       6521        4024  Sat, 1971-01-23 08:40:49         2837   \n",
      "18       9235        5682  Mon, 1981-10-19 16:54:11         2818   \n",
      "\n",
      "    modified_user  status                              note  \n",
      "1            5698       1                               NaN  \n",
      "5            2494       0  productize customized e-services  \n",
      "12           4745       1                               NaN  \n",
      "13           2988       1                               NaN  \n",
      "18           5380       1                               NaN  \n",
      "\n",
      "[5 rows x 29 columns]\n"
     ]
    }
   ],
   "source": [
    "print(cons_df[cons_df.create_dt < cons_df.birth_dt].head(5))"
   ]
  },
  {
   "cell_type": "markdown",
   "metadata": {},
   "source": [
    "and many more inconstencies ..."
   ]
  }
 ],
 "metadata": {
  "kernelspec": {
   "display_name": "Python 3",
   "language": "python",
   "name": "python3"
  },
  "language_info": {
   "codemirror_mode": {
    "name": "ipython",
    "version": 3
   },
   "file_extension": ".py",
   "mimetype": "text/x-python",
   "name": "python",
   "nbconvert_exporter": "python",
   "pygments_lexer": "ipython3",
   "version": "3.8.5"
  }
 },
 "nbformat": 4,
 "nbformat_minor": 4
}
